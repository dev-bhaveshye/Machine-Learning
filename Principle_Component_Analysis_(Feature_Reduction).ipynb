{
  "metadata": {
    "kernelspec": {
      "language": "python",
      "display_name": "Python 3",
      "name": "python3"
    },
    "language_info": {
      "name": "python",
      "version": "3.10.12",
      "mimetype": "text/x-python",
      "codemirror_mode": {
        "name": "ipython",
        "version": 3
      },
      "pygments_lexer": "ipython3",
      "nbconvert_exporter": "python",
      "file_extension": ".py"
    },
    "kaggle": {
      "accelerator": "none",
      "dataSources": [
        {
          "sourceId": 3004,
          "databundleVersionId": 861823,
          "sourceType": "competition"
        }
      ],
      "dockerImageVersionId": 30918,
      "isInternetEnabled": false,
      "language": "python",
      "sourceType": "notebook",
      "isGpuEnabled": false
    },
    "colab": {
      "name": "Principle Component Analysis (Feature Reduction)",
      "provenance": [],
      "include_colab_link": true
    }
  },
  "nbformat_minor": 0,
  "nbformat": 4,
  "cells": [
    {
      "cell_type": "markdown",
      "metadata": {
        "id": "view-in-github",
        "colab_type": "text"
      },
      "source": [
        "<a href=\"https://colab.research.google.com/github/dev-bhaveshye/Machine-Learning/blob/main/Principle_Component_Analysis_(Feature_Reduction).ipynb\" target=\"_parent\"><img src=\"https://colab.research.google.com/assets/colab-badge.svg\" alt=\"Open In Colab\"/></a>"
      ]
    },
    {
      "source": [
        "# IMPORTANT: SOME KAGGLE DATA SOURCES ARE PRIVATE\n",
        "# RUN THIS CELL IN ORDER TO IMPORT YOUR KAGGLE DATA SOURCES.\n",
        "import kagglehub\n",
        "kagglehub.login()\n"
      ],
      "metadata": {
        "id": "ZcK3ZvibI24R"
      },
      "cell_type": "code",
      "outputs": [],
      "execution_count": null
    },
    {
      "source": [
        "# IMPORTANT: RUN THIS CELL IN ORDER TO IMPORT YOUR KAGGLE DATA SOURCES,\n",
        "# THEN FEEL FREE TO DELETE THIS CELL.\n",
        "# NOTE: THIS NOTEBOOK ENVIRONMENT DIFFERS FROM KAGGLE'S PYTHON\n",
        "# ENVIRONMENT SO THERE MAY BE MISSING LIBRARIES USED BY YOUR\n",
        "# NOTEBOOK.\n",
        "\n",
        "digit_recognizer_path = kagglehub.competition_download('digit-recognizer')\n",
        "\n",
        "print('Data source import complete.')\n"
      ],
      "metadata": {
        "id": "OtX2wtMqI24U"
      },
      "cell_type": "code",
      "outputs": [],
      "execution_count": null
    },
    {
      "cell_type": "markdown",
      "source": [
        "**PCA for Feature Reduction**\n",
        "\n",
        "**Why Use PCA?**\n",
        "Principal Component Analysis (PCA) is a dimensionality reduction technique used to transform high-dimensional data into a lower-dimensional space while preserving as much variance as possible.\n",
        "\n",
        "**Reducing the number of features helps:**\n",
        "Improve model efficiency.\n",
        "Reduce computational cost.\n",
        "Minimize noise and redundancy in the dataset.\n",
        "\n",
        "**Steps for Applying PCA**\n",
        "\n",
        "**Standardization:** Since PCA is sensitive to feature scale, we first normalize the data using StandardScaler to ensure all features have a mean of 0 and a standard deviation of 1.\n",
        "\n",
        "**Compute Principal Components:** PCA finds new orthogonal axes (principal components) that capture maximum variance in the data.\n",
        "\n",
        "**Dimensionality Reduction:** We select the top N components that explain the most variance, reducing the feature space while retaining key information.\n",
        "\n",
        "**Transform the Data:** The dataset is projected onto these components, creating a lower-dimensional representation."
      ],
      "metadata": {
        "id": "OqKFrxwfI24W"
      }
    },
    {
      "cell_type": "code",
      "source": [
        "# This Python 3 environment comes with many helpful analytics libraries installed\n",
        "# It is defined by the kaggle/python Docker image: https://github.com/kaggle/docker-python\n",
        "# For example, here's several helpful packages to load\n",
        "\n",
        "import numpy as np # linear algebra\n",
        "import pandas as pd # data processing, CSV file I/O (e.g. pd.read_csv)\n",
        "\n",
        "# Input data files are available in the read-only \"../input/\" directory\n",
        "# For example, running this (by clicking run or pressing Shift+Enter) will list all files under the input directory\n",
        "\n",
        "import os\n",
        "for dirname, _, filenames in os.walk('/kaggle/input'):\n",
        "    for filename in filenames:\n",
        "        print(os.path.join(dirname, filename))\n",
        "\n",
        "# You can write up to 20GB to the current directory (/kaggle/working/) that gets preserved as output when you create a version using \"Save & Run All\"\n",
        "# You can also write temporary files to /kaggle/temp/, but they won't be saved outside of the current session"
      ],
      "metadata": {
        "_uuid": "8f2839f25d086af736a60e9eeb907d3b93b6e0e5",
        "_cell_guid": "b1076dfc-b9ad-4769-8c92-a6c4dae69d19",
        "trusted": true,
        "execution": {
          "iopub.status.busy": "2025-02-26T12:42:53.539906Z",
          "iopub.execute_input": "2025-02-26T12:42:53.54026Z",
          "iopub.status.idle": "2025-02-26T12:42:53.548261Z",
          "shell.execute_reply.started": "2025-02-26T12:42:53.540234Z",
          "shell.execute_reply": "2025-02-26T12:42:53.547201Z"
        },
        "id": "pJiDoeJmI24X",
        "outputId": "85cc97b7-ad01-42f8-da4f-ce30d7d23f62"
      },
      "outputs": [
        {
          "name": "stdout",
          "text": "/kaggle/input/digit-recognizer/sample_submission.csv\n/kaggle/input/digit-recognizer/train.csv\n/kaggle/input/digit-recognizer/test.csv\n",
          "output_type": "stream"
        }
      ],
      "execution_count": null
    },
    {
      "cell_type": "code",
      "source": [
        "df=pd.read_csv('/kaggle/input/digit-recognizer/train.csv')"
      ],
      "metadata": {
        "trusted": true,
        "execution": {
          "iopub.status.busy": "2025-02-26T12:42:53.549589Z",
          "iopub.execute_input": "2025-02-26T12:42:53.549884Z",
          "iopub.status.idle": "2025-02-26T12:42:55.76617Z",
          "shell.execute_reply.started": "2025-02-26T12:42:53.54986Z",
          "shell.execute_reply": "2025-02-26T12:42:55.765263Z"
        },
        "id": "ll9GwOyxI24Z"
      },
      "outputs": [],
      "execution_count": null
    },
    {
      "cell_type": "code",
      "source": [
        "df.shape"
      ],
      "metadata": {
        "trusted": true,
        "execution": {
          "iopub.status.busy": "2025-02-26T12:42:55.767917Z",
          "iopub.execute_input": "2025-02-26T12:42:55.768281Z",
          "iopub.status.idle": "2025-02-26T12:42:55.77328Z",
          "shell.execute_reply.started": "2025-02-26T12:42:55.768245Z",
          "shell.execute_reply": "2025-02-26T12:42:55.772565Z"
        },
        "id": "9smBrB7uI24a",
        "outputId": "f8808709-276d-41d4-ea6b-c574d8f8f52a"
      },
      "outputs": [
        {
          "execution_count": 18,
          "output_type": "execute_result",
          "data": {
            "text/plain": "(42000, 785)"
          },
          "metadata": {}
        }
      ],
      "execution_count": null
    },
    {
      "cell_type": "code",
      "source": [
        "df.sample()"
      ],
      "metadata": {
        "trusted": true,
        "execution": {
          "iopub.status.busy": "2025-02-26T12:42:55.774498Z",
          "iopub.execute_input": "2025-02-26T12:42:55.77478Z",
          "iopub.status.idle": "2025-02-26T12:42:55.80459Z",
          "shell.execute_reply.started": "2025-02-26T12:42:55.774748Z",
          "shell.execute_reply": "2025-02-26T12:42:55.803495Z"
        },
        "id": "bnWM4soSI24b",
        "outputId": "1639b42e-aa41-451d-ac36-9b0e1a2510bf"
      },
      "outputs": [
        {
          "execution_count": 19,
          "output_type": "execute_result",
          "data": {
            "text/plain": "       label  pixel0  pixel1  pixel2  pixel3  pixel4  pixel5  pixel6  pixel7  \\\n38379      1       0       0       0       0       0       0       0       0   \n\n       pixel8  ...  pixel774  pixel775  pixel776  pixel777  pixel778  \\\n38379       0  ...         0         0         0         0         0   \n\n       pixel779  pixel780  pixel781  pixel782  pixel783  \n38379         0         0         0         0         0  \n\n[1 rows x 785 columns]",
            "text/html": "<div>\n<style scoped>\n    .dataframe tbody tr th:only-of-type {\n        vertical-align: middle;\n    }\n\n    .dataframe tbody tr th {\n        vertical-align: top;\n    }\n\n    .dataframe thead th {\n        text-align: right;\n    }\n</style>\n<table border=\"1\" class=\"dataframe\">\n  <thead>\n    <tr style=\"text-align: right;\">\n      <th></th>\n      <th>label</th>\n      <th>pixel0</th>\n      <th>pixel1</th>\n      <th>pixel2</th>\n      <th>pixel3</th>\n      <th>pixel4</th>\n      <th>pixel5</th>\n      <th>pixel6</th>\n      <th>pixel7</th>\n      <th>pixel8</th>\n      <th>...</th>\n      <th>pixel774</th>\n      <th>pixel775</th>\n      <th>pixel776</th>\n      <th>pixel777</th>\n      <th>pixel778</th>\n      <th>pixel779</th>\n      <th>pixel780</th>\n      <th>pixel781</th>\n      <th>pixel782</th>\n      <th>pixel783</th>\n    </tr>\n  </thead>\n  <tbody>\n    <tr>\n      <th>38379</th>\n      <td>1</td>\n      <td>0</td>\n      <td>0</td>\n      <td>0</td>\n      <td>0</td>\n      <td>0</td>\n      <td>0</td>\n      <td>0</td>\n      <td>0</td>\n      <td>0</td>\n      <td>...</td>\n      <td>0</td>\n      <td>0</td>\n      <td>0</td>\n      <td>0</td>\n      <td>0</td>\n      <td>0</td>\n      <td>0</td>\n      <td>0</td>\n      <td>0</td>\n      <td>0</td>\n    </tr>\n  </tbody>\n</table>\n<p>1 rows × 785 columns</p>\n</div>"
          },
          "metadata": {}
        }
      ],
      "execution_count": null
    },
    {
      "cell_type": "code",
      "source": [
        "import matplotlib.pyplot as plt\n",
        "plt.imshow(df.iloc[15056,1:].values.reshape(28,28))"
      ],
      "metadata": {
        "trusted": true,
        "execution": {
          "iopub.status.busy": "2025-02-26T12:42:55.80549Z",
          "iopub.execute_input": "2025-02-26T12:42:55.805808Z",
          "iopub.status.idle": "2025-02-26T12:42:55.999787Z",
          "shell.execute_reply.started": "2025-02-26T12:42:55.805774Z",
          "shell.execute_reply": "2025-02-26T12:42:55.998784Z"
        },
        "id": "UmvlFdCHI24c",
        "outputId": "13571ed3-3c13-4571-b04c-132778aa4a64"
      },
      "outputs": [
        {
          "execution_count": 20,
          "output_type": "execute_result",
          "data": {
            "text/plain": "<matplotlib.image.AxesImage at 0x7f6e7ae7df30>"
          },
          "metadata": {}
        },
        {
          "output_type": "display_data",
          "data": {
            "text/plain": "<Figure size 640x480 with 1 Axes>",
            "image/png": "[encoded data removed]"
          },
          "metadata": {}
        }
      ],
      "execution_count": null
    },
    {
      "cell_type": "code",
      "source": [
        "x=df.iloc[:,1:]\n",
        "y=df.iloc[:,0]"
      ],
      "metadata": {
        "trusted": true,
        "execution": {
          "iopub.status.busy": "2025-02-26T12:42:56.000905Z",
          "iopub.execute_input": "2025-02-26T12:42:56.001209Z",
          "iopub.status.idle": "2025-02-26T12:42:56.007062Z",
          "shell.execute_reply.started": "2025-02-26T12:42:56.001174Z",
          "shell.execute_reply": "2025-02-26T12:42:56.006136Z"
        },
        "id": "fTID96qFI24d"
      },
      "outputs": [],
      "execution_count": null
    },
    {
      "cell_type": "code",
      "source": [
        "from sklearn.model_selection import train_test_split\n",
        "x_train,x_test,y_train,y_test=train_test_split(x,y,test_size=0.2,random_state=42)"
      ],
      "metadata": {
        "trusted": true,
        "execution": {
          "iopub.status.busy": "2025-02-26T12:42:56.009905Z",
          "iopub.execute_input": "2025-02-26T12:42:56.010174Z",
          "iopub.status.idle": "2025-02-26T12:42:56.238421Z",
          "shell.execute_reply.started": "2025-02-26T12:42:56.010151Z",
          "shell.execute_reply": "2025-02-26T12:42:56.237371Z"
        },
        "id": "jc2-q7n0I24e"
      },
      "outputs": [],
      "execution_count": null
    },
    {
      "cell_type": "code",
      "source": [
        "x_train.shape"
      ],
      "metadata": {
        "trusted": true,
        "execution": {
          "iopub.status.busy": "2025-02-26T12:42:56.240199Z",
          "iopub.execute_input": "2025-02-26T12:42:56.240463Z",
          "iopub.status.idle": "2025-02-26T12:42:56.2459Z",
          "shell.execute_reply.started": "2025-02-26T12:42:56.240441Z",
          "shell.execute_reply": "2025-02-26T12:42:56.245024Z"
        },
        "id": "SshnLcXgI24e",
        "outputId": "d8173743-1e37-4ede-9706-56edda1f2ae6"
      },
      "outputs": [
        {
          "execution_count": 23,
          "output_type": "execute_result",
          "data": {
            "text/plain": "(33600, 784)"
          },
          "metadata": {}
        }
      ],
      "execution_count": null
    },
    {
      "cell_type": "code",
      "source": [
        "x_test.shape"
      ],
      "metadata": {
        "trusted": true,
        "execution": {
          "iopub.status.busy": "2025-02-26T12:42:56.246791Z",
          "iopub.execute_input": "2025-02-26T12:42:56.247058Z",
          "iopub.status.idle": "2025-02-26T12:42:56.263408Z",
          "shell.execute_reply.started": "2025-02-26T12:42:56.247026Z",
          "shell.execute_reply": "2025-02-26T12:42:56.262561Z"
        },
        "id": "Gg7yx4QzI24f",
        "outputId": "63fd3edc-7d1c-4ef9-f290-578cd95c76fe"
      },
      "outputs": [
        {
          "execution_count": 24,
          "output_type": "execute_result",
          "data": {
            "text/plain": "(8400, 784)"
          },
          "metadata": {}
        }
      ],
      "execution_count": null
    },
    {
      "cell_type": "code",
      "source": [
        "from sklearn.neighbors import KNeighborsClassifier"
      ],
      "metadata": {
        "trusted": true,
        "execution": {
          "iopub.status.busy": "2025-02-26T12:42:56.264367Z",
          "iopub.execute_input": "2025-02-26T12:42:56.264641Z",
          "iopub.status.idle": "2025-02-26T12:42:56.28054Z",
          "shell.execute_reply.started": "2025-02-26T12:42:56.264618Z",
          "shell.execute_reply": "2025-02-26T12:42:56.279573Z"
        },
        "id": "D5uUTm_BI24g"
      },
      "outputs": [],
      "execution_count": null
    },
    {
      "cell_type": "code",
      "source": [
        "knn=KNeighborsClassifier()"
      ],
      "metadata": {
        "trusted": true,
        "execution": {
          "iopub.status.busy": "2025-02-26T12:42:56.28156Z",
          "iopub.execute_input": "2025-02-26T12:42:56.281916Z",
          "iopub.status.idle": "2025-02-26T12:42:56.298326Z",
          "shell.execute_reply.started": "2025-02-26T12:42:56.281879Z",
          "shell.execute_reply": "2025-02-26T12:42:56.297315Z"
        },
        "id": "sMP02ss-I24g"
      },
      "outputs": [],
      "execution_count": null
    },
    {
      "cell_type": "code",
      "source": [
        "knn.fit(x_train,y_train)"
      ],
      "metadata": {
        "trusted": true,
        "execution": {
          "iopub.status.busy": "2025-02-26T12:42:56.29964Z",
          "iopub.execute_input": "2025-02-26T12:42:56.299966Z",
          "iopub.status.idle": "2025-02-26T12:42:56.433462Z",
          "shell.execute_reply.started": "2025-02-26T12:42:56.299937Z",
          "shell.execute_reply": "2025-02-26T12:42:56.432535Z"
        },
        "id": "oVomOm5OI24h",
        "outputId": "3a8df82d-40d4-4d96-c4f9-837efc6fcdf2"
      },
      "outputs": [
        {
          "execution_count": 27,
          "output_type": "execute_result",
          "data": {
            "text/plain": "KNeighborsClassifier()",
            "text/html": "<style>#sk-container-id-2 {color: black;background-color: white;}#sk-container-id-2 pre{padding: 0;}#sk-container-id-2 div.sk-toggleable {background-color: white;}#sk-container-id-2 label.sk-toggleable__label {cursor: pointer;display: block;width: 100%;margin-bottom: 0;padding: 0.3em;box-sizing: border-box;text-align: center;}#sk-container-id-2 label.sk-toggleable__label-arrow:before {content: \"▸\";float: left;margin-right: 0.25em;color: #696969;}#sk-container-id-2 label.sk-toggleable__label-arrow:hover:before {color: black;}#sk-container-id-2 div.sk-estimator:hover label.sk-toggleable__label-arrow:before {color: black;}#sk-container-id-2 div.sk-toggleable__content {max-height: 0;max-width: 0;overflow: hidden;text-align: left;background-color: #f0f8ff;}#sk-container-id-2 div.sk-toggleable__content pre {margin: 0.2em;color: black;border-radius: 0.25em;background-color: #f0f8ff;}#sk-container-id-2 input.sk-toggleable__control:checked~div.sk-toggleable__content {max-height: 200px;max-width: 100%;overflow: auto;}#sk-container-id-2 input.sk-toggleable__control:checked~label.sk-toggleable__label-arrow:before {content: \"▾\";}#sk-container-id-2 div.sk-estimator input.sk-toggleable__control:checked~label.sk-toggleable__label {background-color: #d4ebff;}#sk-container-id-2 div.sk-label input.sk-toggleable__control:checked~label.sk-toggleable__label {background-color: #d4ebff;}#sk-container-id-2 input.sk-hidden--visually {border: 0;clip: rect(1px 1px 1px 1px);clip: rect(1px, 1px, 1px, 1px);height: 1px;margin: -1px;overflow: hidden;padding: 0;position: absolute;width: 1px;}#sk-container-id-2 div.sk-estimator {font-family: monospace;background-color: #f0f8ff;border: 1px dotted black;border-radius: 0.25em;box-sizing: border-box;margin-bottom: 0.5em;}#sk-container-id-2 div.sk-estimator:hover {background-color: #d4ebff;}#sk-container-id-2 div.sk-parallel-item::after {content: \"\";width: 100%;border-bottom: 1px solid gray;flex-grow: 1;}#sk-container-id-2 div.sk-label:hover label.sk-toggleable__label {background-color: #d4ebff;}#sk-container-id-2 div.sk-serial::before {content: \"\";position: absolute;border-left: 1px solid gray;box-sizing: border-box;top: 0;bottom: 0;left: 50%;z-index: 0;}#sk-container-id-2 div.sk-serial {display: flex;flex-direction: column;align-items: center;background-color: white;padding-right: 0.2em;padding-left: 0.2em;position: relative;}#sk-container-id-2 div.sk-item {position: relative;z-index: 1;}#sk-container-id-2 div.sk-parallel {display: flex;align-items: stretch;justify-content: center;background-color: white;position: relative;}#sk-container-id-2 div.sk-item::before, #sk-container-id-2 div.sk-parallel-item::before {content: \"\";position: absolute;border-left: 1px solid gray;box-sizing: border-box;top: 0;bottom: 0;left: 50%;z-index: -1;}#sk-container-id-2 div.sk-parallel-item {display: flex;flex-direction: column;z-index: 1;position: relative;background-color: white;}#sk-container-id-2 div.sk-parallel-item:first-child::after {align-self: flex-end;width: 50%;}#sk-container-id-2 div.sk-parallel-item:last-child::after {align-self: flex-start;width: 50%;}#sk-container-id-2 div.sk-parallel-item:only-child::after {width: 0;}#sk-container-id-2 div.sk-dashed-wrapped {border: 1px dashed gray;margin: 0 0.4em 0.5em 0.4em;box-sizing: border-box;padding-bottom: 0.4em;background-color: white;}#sk-container-id-2 div.sk-label label {font-family: monospace;font-weight: bold;display: inline-block;line-height: 1.2em;}#sk-container-id-2 div.sk-label-container {text-align: center;}#sk-container-id-2 div.sk-container {/* jupyter's `normalize.less` sets `[hidden] { display: none; }` but bootstrap.min.css set `[hidden] { display: none !important; }` so we also need the `!important` here to be able to override the default hidden behavior on the sphinx rendered scikit-learn.org. See: https://github.com/scikit-learn/scikit-learn/issues/21755 */display: inline-block !important;position: relative;}#sk-container-id-2 div.sk-text-repr-fallback {display: none;}</style><div id=\"sk-container-id-2\" class=\"sk-top-container\"><div class=\"sk-text-repr-fallback\"><pre>KNeighborsClassifier()</pre><b>In a Jupyter environment, please rerun this cell to show the HTML representation or trust the notebook. <br />On GitHub, the HTML representation is unable to render, please try loading this page with nbviewer.org.</b></div><div class=\"sk-container\" hidden><div class=\"sk-item\"><div class=\"sk-estimator sk-toggleable\"><input class=\"sk-toggleable__control sk-hidden--visually\" id=\"sk-estimator-id-2\" type=\"checkbox\" checked><label for=\"sk-estimator-id-2\" class=\"sk-toggleable__label sk-toggleable__label-arrow\">KNeighborsClassifier</label><div class=\"sk-toggleable__content\"><pre>KNeighborsClassifier()</pre></div></div></div></div></div>"
          },
          "metadata": {}
        }
      ],
      "execution_count": null
    },
    {
      "cell_type": "code",
      "source": [
        "y_pred = knn.predict(x_test)"
      ],
      "metadata": {
        "trusted": true,
        "execution": {
          "iopub.status.busy": "2025-02-26T12:42:56.434484Z",
          "iopub.execute_input": "2025-02-26T12:42:56.43485Z",
          "iopub.status.idle": "2025-02-26T12:43:08.585799Z",
          "shell.execute_reply.started": "2025-02-26T12:42:56.434816Z",
          "shell.execute_reply": "2025-02-26T12:43:08.584873Z"
        },
        "id": "MEdiEzwDI24h"
      },
      "outputs": [],
      "execution_count": null
    },
    {
      "cell_type": "code",
      "source": [
        "from sklearn.metrics import accuracy_score\n",
        "accuracy_score(y_test,y_pred)"
      ],
      "metadata": {
        "trusted": true,
        "execution": {
          "iopub.status.busy": "2025-02-26T12:43:08.58669Z",
          "iopub.execute_input": "2025-02-26T12:43:08.586942Z",
          "iopub.status.idle": "2025-02-26T12:43:08.594066Z",
          "shell.execute_reply.started": "2025-02-26T12:43:08.586921Z",
          "shell.execute_reply": "2025-02-26T12:43:08.593137Z"
        },
        "id": "M--rJlGgI24h",
        "outputId": "e7a9cd6a-c9a0-4beb-8503-4d2d2ceffe76"
      },
      "outputs": [
        {
          "execution_count": 29,
          "output_type": "execute_result",
          "data": {
            "text/plain": "0.9648809523809524"
          },
          "metadata": {}
        }
      ],
      "execution_count": null
    },
    {
      "cell_type": "code",
      "source": [
        "from sklearn.preprocessing import StandardScaler\n",
        "scaler=StandardScaler()"
      ],
      "metadata": {
        "trusted": true,
        "execution": {
          "iopub.status.busy": "2025-02-26T12:43:08.59502Z",
          "iopub.execute_input": "2025-02-26T12:43:08.59533Z",
          "iopub.status.idle": "2025-02-26T12:43:08.609516Z",
          "shell.execute_reply.started": "2025-02-26T12:43:08.595306Z",
          "shell.execute_reply": "2025-02-26T12:43:08.608354Z"
        },
        "id": "FLFCbZy-I24h"
      },
      "outputs": [],
      "execution_count": null
    },
    {
      "cell_type": "code",
      "source": [
        "x_train=scaler.fit_transform(x_train)\n",
        "x_test=scaler.transform(x_test)"
      ],
      "metadata": {
        "trusted": true,
        "execution": {
          "iopub.status.busy": "2025-02-26T12:43:08.610691Z",
          "iopub.execute_input": "2025-02-26T12:43:08.611072Z",
          "iopub.status.idle": "2025-02-26T12:43:09.208183Z",
          "shell.execute_reply.started": "2025-02-26T12:43:08.611022Z",
          "shell.execute_reply": "2025-02-26T12:43:09.207076Z"
        },
        "id": "EMZPv0TjI24i"
      },
      "outputs": [],
      "execution_count": null
    },
    {
      "cell_type": "code",
      "source": [
        "from sklearn.decomposition import PCA\n",
        "pca = PCA(n_components=100)"
      ],
      "metadata": {
        "trusted": true,
        "execution": {
          "iopub.status.busy": "2025-02-26T12:43:09.209231Z",
          "iopub.execute_input": "2025-02-26T12:43:09.20963Z",
          "iopub.status.idle": "2025-02-26T12:43:09.214116Z",
          "shell.execute_reply.started": "2025-02-26T12:43:09.209592Z",
          "shell.execute_reply": "2025-02-26T12:43:09.212961Z"
        },
        "id": "ObIJXsH-I24i"
      },
      "outputs": [],
      "execution_count": null
    },
    {
      "cell_type": "code",
      "source": [
        "x_train_trf=pca.fit_transform(x_train)\n",
        "x_test_trf=pca.transform(x_test)\n"
      ],
      "metadata": {
        "trusted": true,
        "execution": {
          "iopub.status.busy": "2025-02-26T12:43:09.215143Z",
          "iopub.execute_input": "2025-02-26T12:43:09.21542Z",
          "iopub.status.idle": "2025-02-26T12:43:11.04543Z",
          "shell.execute_reply.started": "2025-02-26T12:43:09.215395Z",
          "shell.execute_reply": "2025-02-26T12:43:11.044153Z"
        },
        "id": "m-ODAZMEI24i"
      },
      "outputs": [],
      "execution_count": null
    },
    {
      "cell_type": "code",
      "source": [
        "x_train_trf.shape"
      ],
      "metadata": {
        "trusted": true,
        "execution": {
          "iopub.status.busy": "2025-02-26T12:43:11.048543Z",
          "iopub.execute_input": "2025-02-26T12:43:11.048848Z",
          "iopub.status.idle": "2025-02-26T12:43:11.05432Z",
          "shell.execute_reply.started": "2025-02-26T12:43:11.048821Z",
          "shell.execute_reply": "2025-02-26T12:43:11.053442Z"
        },
        "id": "yI6dMES_I24i",
        "outputId": "e3bd25a7-ed27-44ac-9e05-1975f4a8e7b6"
      },
      "outputs": [
        {
          "execution_count": 34,
          "output_type": "execute_result",
          "data": {
            "text/plain": "(33600, 100)"
          },
          "metadata": {}
        }
      ],
      "execution_count": null
    },
    {
      "cell_type": "code",
      "source": [
        "knn=KNeighborsClassifier()\n",
        "knn.fit(x_train_trf,y_train)"
      ],
      "metadata": {
        "trusted": true,
        "execution": {
          "iopub.status.busy": "2025-02-26T12:43:11.0556Z",
          "iopub.execute_input": "2025-02-26T12:43:11.055961Z",
          "iopub.status.idle": "2025-02-26T12:43:11.08836Z",
          "shell.execute_reply.started": "2025-02-26T12:43:11.055925Z",
          "shell.execute_reply": "2025-02-26T12:43:11.087289Z"
        },
        "id": "6QSLLOisI24j",
        "outputId": "83ae96f7-85d5-4257-a1eb-5a0ac16f6781"
      },
      "outputs": [
        {
          "execution_count": 35,
          "output_type": "execute_result",
          "data": {
            "text/plain": "KNeighborsClassifier()",
            "text/html": "<style>#sk-container-id-3 {color: black;background-color: white;}#sk-container-id-3 pre{padding: 0;}#sk-container-id-3 div.sk-toggleable {background-color: white;}#sk-container-id-3 label.sk-toggleable__label {cursor: pointer;display: block;width: 100%;margin-bottom: 0;padding: 0.3em;box-sizing: border-box;text-align: center;}#sk-container-id-3 label.sk-toggleable__label-arrow:before {content: \"▸\";float: left;margin-right: 0.25em;color: #696969;}#sk-container-id-3 label.sk-toggleable__label-arrow:hover:before {color: black;}#sk-container-id-3 div.sk-estimator:hover label.sk-toggleable__label-arrow:before {color: black;}#sk-container-id-3 div.sk-toggleable__content {max-height: 0;max-width: 0;overflow: hidden;text-align: left;background-color: #f0f8ff;}#sk-container-id-3 div.sk-toggleable__content pre {margin: 0.2em;color: black;border-radius: 0.25em;background-color: #f0f8ff;}#sk-container-id-3 input.sk-toggleable__control:checked~div.sk-toggleable__content {max-height: 200px;max-width: 100%;overflow: auto;}#sk-container-id-3 input.sk-toggleable__control:checked~label.sk-toggleable__label-arrow:before {content: \"▾\";}#sk-container-id-3 div.sk-estimator input.sk-toggleable__control:checked~label.sk-toggleable__label {background-color: #d4ebff;}#sk-container-id-3 div.sk-label input.sk-toggleable__control:checked~label.sk-toggleable__label {background-color: #d4ebff;}#sk-container-id-3 input.sk-hidden--visually {border: 0;clip: rect(1px 1px 1px 1px);clip: rect(1px, 1px, 1px, 1px);height: 1px;margin: -1px;overflow: hidden;padding: 0;position: absolute;width: 1px;}#sk-container-id-3 div.sk-estimator {font-family: monospace;background-color: #f0f8ff;border: 1px dotted black;border-radius: 0.25em;box-sizing: border-box;margin-bottom: 0.5em;}#sk-container-id-3 div.sk-estimator:hover {background-color: #d4ebff;}#sk-container-id-3 div.sk-parallel-item::after {content: \"\";width: 100%;border-bottom: 1px solid gray;flex-grow: 1;}#sk-container-id-3 div.sk-label:hover label.sk-toggleable__label {background-color: #d4ebff;}#sk-container-id-3 div.sk-serial::before {content: \"\";position: absolute;border-left: 1px solid gray;box-sizing: border-box;top: 0;bottom: 0;left: 50%;z-index: 0;}#sk-container-id-3 div.sk-serial {display: flex;flex-direction: column;align-items: center;background-color: white;padding-right: 0.2em;padding-left: 0.2em;position: relative;}#sk-container-id-3 div.sk-item {position: relative;z-index: 1;}#sk-container-id-3 div.sk-parallel {display: flex;align-items: stretch;justify-content: center;background-color: white;position: relative;}#sk-container-id-3 div.sk-item::before, #sk-container-id-3 div.sk-parallel-item::before {content: \"\";position: absolute;border-left: 1px solid gray;box-sizing: border-box;top: 0;bottom: 0;left: 50%;z-index: -1;}#sk-container-id-3 div.sk-parallel-item {display: flex;flex-direction: column;z-index: 1;position: relative;background-color: white;}#sk-container-id-3 div.sk-parallel-item:first-child::after {align-self: flex-end;width: 50%;}#sk-container-id-3 div.sk-parallel-item:last-child::after {align-self: flex-start;width: 50%;}#sk-container-id-3 div.sk-parallel-item:only-child::after {width: 0;}#sk-container-id-3 div.sk-dashed-wrapped {border: 1px dashed gray;margin: 0 0.4em 0.5em 0.4em;box-sizing: border-box;padding-bottom: 0.4em;background-color: white;}#sk-container-id-3 div.sk-label label {font-family: monospace;font-weight: bold;display: inline-block;line-height: 1.2em;}#sk-container-id-3 div.sk-label-container {text-align: center;}#sk-container-id-3 div.sk-container {/* jupyter's `normalize.less` sets `[hidden] { display: none; }` but bootstrap.min.css set `[hidden] { display: none !important; }` so we also need the `!important` here to be able to override the default hidden behavior on the sphinx rendered scikit-learn.org. See: https://github.com/scikit-learn/scikit-learn/issues/21755 */display: inline-block !important;position: relative;}#sk-container-id-3 div.sk-text-repr-fallback {display: none;}</style><div id=\"sk-container-id-3\" class=\"sk-top-container\"><div class=\"sk-text-repr-fallback\"><pre>KNeighborsClassifier()</pre><b>In a Jupyter environment, please rerun this cell to show the HTML representation or trust the notebook. <br />On GitHub, the HTML representation is unable to render, please try loading this page with nbviewer.org.</b></div><div class=\"sk-container\" hidden><div class=\"sk-item\"><div class=\"sk-estimator sk-toggleable\"><input class=\"sk-toggleable__control sk-hidden--visually\" id=\"sk-estimator-id-3\" type=\"checkbox\" checked><label for=\"sk-estimator-id-3\" class=\"sk-toggleable__label sk-toggleable__label-arrow\">KNeighborsClassifier</label><div class=\"sk-toggleable__content\"><pre>KNeighborsClassifier()</pre></div></div></div></div></div>"
          },
          "metadata": {}
        }
      ],
      "execution_count": null
    },
    {
      "cell_type": "code",
      "source": [
        "y_pred=knn.predict(x_test_trf)"
      ],
      "metadata": {
        "trusted": true,
        "execution": {
          "iopub.status.busy": "2025-02-26T12:43:11.089325Z",
          "iopub.execute_input": "2025-02-26T12:43:11.089689Z",
          "iopub.status.idle": "2025-02-26T12:43:12.683066Z",
          "shell.execute_reply.started": "2025-02-26T12:43:11.089647Z",
          "shell.execute_reply": "2025-02-26T12:43:12.681984Z"
        },
        "id": "Xtei_p01I24j"
      },
      "outputs": [],
      "execution_count": null
    },
    {
      "cell_type": "code",
      "source": [
        "accuracy_score(y_test,y_pred)*100"
      ],
      "metadata": {
        "trusted": true,
        "execution": {
          "iopub.status.busy": "2025-02-26T12:43:12.684031Z",
          "iopub.execute_input": "2025-02-26T12:43:12.684303Z",
          "iopub.status.idle": "2025-02-26T12:43:12.691215Z",
          "shell.execute_reply.started": "2025-02-26T12:43:12.68428Z",
          "shell.execute_reply": "2025-02-26T12:43:12.690375Z"
        },
        "id": "3lKUBl7oI24j",
        "outputId": "bd2f36a2-c6cf-43d9-c1cd-d041d0b06400"
      },
      "outputs": [
        {
          "execution_count": 37,
          "output_type": "execute_result",
          "data": {
            "text/plain": "95.32142857142857"
          },
          "metadata": {}
        }
      ],
      "execution_count": null
    },
    {
      "cell_type": "code",
      "source": [
        "for i in range (1,785):\n",
        "    pca = PCA(n_components=i)\n",
        "\n",
        "    x_train_trf=pca.fit_transform(x_train)\n",
        "    x_test_trf=pca.transform(x_test)\n",
        "\n",
        "    knn=KNeighborsClassifier()\n",
        "    knn.fit(x_train_trf,y_train)\n",
        "\n",
        "    y_pred=knn.predict(x_test_trf)\n",
        "\n",
        "    print(accuracy_score(y_test,y_pred)*100)\n",
        ""
      ],
      "metadata": {
        "trusted": true,
        "execution": {
          "iopub.status.busy": "2025-02-26T12:43:12.692342Z",
          "iopub.execute_input": "2025-02-26T12:43:12.692729Z",
          "execution_failed": "2025-02-26T16:34:02.8Z"
        },
        "id": "aOgLOASJI24k",
        "outputId": "898ec2ac-0ec2-4082-e94f-ca43f34c232f"
      },
      "outputs": [
        {
          "name": "stdout",
          "text": "26.05952380952381\n32.416666666666664\n51.01190476190476\n66.64285714285715\n73.80952380952381\n82.26190476190476\n84.28571428571429\n87.13095238095238\n88.61904761904762\n90.5952380952381\n91.19047619047619\n91.79761904761905\n92.78571428571428\n93.5\n93.92857142857143\n93.80952380952381\n94.10714285714286\n94.0952380952381\n94.25\n94.45238095238095\n94.27380952380953\n94.36904761904762\n94.46428571428571\n94.44047619047619\n94.85714285714286\n94.72619047619048\n94.83333333333334\n94.76190476190476\n94.86904761904762\n94.9047619047619\n94.91666666666667\n95.03571428571429\n95.02380952380952\n95.04761904761905\n95.07142857142857\n95.26190476190476\n95.26190476190476\n95.27380952380953\n95.34523809523809\n95.27380952380953\n95.25\n95.26190476190476\n95.27380952380953\n95.4047619047619\n95.33333333333334\n95.36904761904762\n95.44047619047619\n95.44047619047619\n95.4047619047619\n95.36904761904762\n95.35714285714286\n95.38095238095238\n95.32142857142857\n95.38095238095238\n95.47619047619048\n95.41666666666667\n95.44047619047619\n95.36904761904762\n95.32142857142857\n95.35714285714286\n95.38095238095238\n95.47619047619048\n95.46428571428571\n95.44047619047619\n95.42857142857143\n95.5\n95.47619047619048\n95.52380952380952\n95.41666666666667\n95.44047619047619\n95.42857142857143\n95.52380952380952\n95.5\n95.41666666666667\n95.45238095238095\n95.38095238095238\n95.5\n95.46428571428571\n95.35714285714286\n95.47619047619048\n95.48809523809524\n95.46428571428571\n95.4047619047619\n95.46428571428571\n95.4047619047619\n95.47619047619048\n95.35714285714286\n95.58333333333333\n95.42857142857143\n95.51190476190476\n95.41666666666667\n95.45238095238095\n95.44047619047619\n95.5\n95.54761904761905\n95.46428571428571\n95.39285714285714\n95.27380952380953\n95.46428571428571\n95.32142857142857\n95.26190476190476\n95.36904761904762\n95.41666666666667\n95.38095238095238\n95.4047619047619\n95.30952380952381\n95.33333333333334\n95.35714285714286\n95.26190476190476\n95.19047619047619\n95.34523809523809\n95.35714285714286\n95.34523809523809\n95.42857142857143\n95.26190476190476\n95.38095238095238\n95.17857142857142\n95.33333333333334\n95.27380952380953\n95.35714285714286\n95.33333333333334\n95.25\n95.28571428571428\n95.39285714285714\n95.20238095238095\n95.35714285714286\n95.35714285714286\n95.25\n95.27380952380953\n95.23809523809523\n95.20238095238095\n95.32142857142857\n95.27380952380953\n95.30952380952381\n95.26190476190476\n95.23809523809523\n95.30952380952381\n95.28571428571428\n95.21428571428572\n95.27380952380953\n95.22619047619048\n95.27380952380953\n95.23809523809523\n95.27380952380953\n95.25\n95.13095238095238\n95.17857142857142\n95.19047619047619\n95.23809523809523\n95.23809523809523\n95.21428571428572\n95.23809523809523\n95.11904761904762\n95.22619047619048\n95.27380952380953\n95.17857142857142\n95.13095238095238\n95.16666666666667\n95.16666666666667\n95.10714285714286\n95.0952380952381\n95.15476190476191\n95.14285714285714\n95.16666666666667\n95.16666666666667\n95.14285714285714\n95.19047619047619\n95.14285714285714\n95.11904761904762\n95.03571428571429\n95.0952380952381\n95.15476190476191\n95.03571428571429\n95.0\n95.11904761904762\n95.21428571428572\n95.0952380952381\n95.08333333333333\n95.05952380952381\n95.10714285714286\n95.22619047619048\n95.10714285714286\n95.08333333333333\n95.04761904761905\n95.15476190476191\n95.11904761904762\n95.05952380952381\n95.13095238095238\n95.05952380952381\n95.17857142857142\n95.01190476190476\n95.07142857142857\n95.0952380952381\n95.04761904761905\n95.04761904761905\n95.10714285714286\n94.95238095238095\n95.08333333333333\n95.03571428571429\n95.14285714285714\n95.08333333333333\n95.04761904761905\n95.11904761904762\n95.01190476190476\n95.02380952380952\n94.97619047619048\n95.04761904761905\n95.07142857142857\n95.03571428571429\n95.01190476190476\n95.04761904761905\n95.07142857142857\n94.98809523809524\n94.95238095238095\n94.92857142857143\n94.92857142857143\n95.01190476190476\n94.98809523809524\n94.9047619047619\n94.97619047619048\n94.96428571428571\n94.96428571428571\n94.96428571428571\n94.92857142857143\n94.98809523809524\n94.88095238095238\n94.94047619047619\n94.89285714285714\n94.91666666666667\n94.85714285714286\n94.98809523809524\n94.92857142857143\n94.86904761904762\n94.85714285714286\n94.92857142857143\n94.88095238095238\n94.86904761904762\n94.85714285714286\n94.92857142857143\n94.82142857142857\n94.91666666666667\n94.80952380952381\n94.80952380952381\n94.89285714285714\n94.77380952380953\n94.78571428571428\n94.85714285714286\n94.80952380952381\n94.69047619047619\n94.84523809523809\n94.79761904761905\n94.85714285714286\n94.77380952380953\n94.67857142857142\n94.83333333333334\n94.78571428571428\n94.79761904761905\n94.77380952380953\n94.82142857142857\n94.79761904761905\n94.76190476190476\n94.84523809523809\n94.85714285714286\n94.70238095238095\n94.72619047619048\n94.69047619047619\n94.72619047619048\n94.73809523809524\n94.76190476190476\n94.69047619047619\n94.71428571428572\n94.65476190476191\n94.76190476190476\n94.77380952380953\n94.76190476190476\n94.70238095238095\n94.77380952380953\n94.64285714285714\n94.67857142857142\n94.71428571428572\n94.66666666666667\n94.75\n94.72619047619048\n94.67857142857142\n94.77380952380953\n94.69047619047619\n94.75\n94.67857142857142\n94.71428571428572\n94.76190476190476\n94.70238095238095\n94.63095238095238\n94.70238095238095\n94.72619047619048\n94.73809523809524\n94.66666666666667\n94.76190476190476\n94.70238095238095\n94.67857142857142\n94.57142857142857\n94.67857142857142\n94.66666666666667\n",
          "output_type": "stream"
        }
      ],
      "execution_count": null
    }
  ]
}